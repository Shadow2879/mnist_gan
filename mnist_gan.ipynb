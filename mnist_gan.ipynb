{
 "cells": [
  {
   "cell_type": "code",
   "execution_count": 1,
   "id": "718f335d",
   "metadata": {},
   "outputs": [],
   "source": [
    "import lightning as L\n",
    "import torch\n",
    "from torch import nn,optim\n",
    "import torch.nn.functional as F\n",
    "import torchvision\n",
    "from torchvision.transforms import Compose,Normalize,ToTensor\n",
    "from torch.utils.data import DataLoader, random_split\n",
    "from torchvision.datasets import FashionMNIST,MNIST\n",
    "from lightning.pytorch.callbacks import RichModelSummary\n",
    "import matplotlib.pyplot as plt\n",
    "import os\n",
    "import numpy as np\n",
    "import imageio"
   ]
  },
  {
   "cell_type": "code",
   "execution_count": null,
   "id": "4f1f85bc",
   "metadata": {},
   "outputs": [],
   "source": [
    "dataset_path='/workspace/datasets'\n",
    "batch_size=512\n",
    "cpus=os.cpu_count()\n",
    "torch.set_float32_matmul_precision('medium')"
   ]
  },
  {
   "cell_type": "code",
   "execution_count": 3,
   "id": "af5ff173",
   "metadata": {},
   "outputs": [],
   "source": [
    "os.makedirs('./img',exist_ok=True)\n",
    "transforms=Compose([ToTensor(),Normalize((0.1307,),(0.3081,))])"
   ]
  },
  {
   "cell_type": "code",
   "execution_count": null,
   "id": "3a054cd3",
   "metadata": {},
   "outputs": [],
   "source": [
    "class FashionMNISTData(L.LightningDataModule):\n",
    "    def __init__(self):\n",
    "        super().__init__()\n",
    "        self.batch_size=batch_size\n",
    "        self.path=dataset_path\n",
    "        self.transform=transforms\n",
    "        self.cpus=cpus\n",
    "    def prepare_data(self):\n",
    "        FashionMNIST(self.path,train=True,download=True)\n",
    "        FashionMNIST(self.path,train=False,download=True)\n",
    "    def setup(self,stage=None):\n",
    "        if stage=='fit':\n",
    "            self.train,self.val=random_split(FashionMNIST(self.path,train=True,transform=self.transform),[0.85,0.15])\n",
    "        if stage=='test' or stage is None:\n",
    "            self.test=FashionMNIST(self.path,train=False,transform=self.transform)\n",
    "    def train_dataloader(self):\n",
    "        return DataLoader(self.train,batch_size=self.batch_size,num_workers=self.cpus)\n",
    "    def val_dataloader(self):\n",
    "        return DataLoader(self.val,batch_size=self.batch_size,num_workers=self.cpus)\n",
    "    def test_dataloader(self):\n",
    "        return DataLoader(self.test,batch_size=self.batch_size,num_workers=self.cpus)\n",
    "    def predict_dataloader(self):\n",
    "        return DataLoader(self.val,batch_size=self.batch_size,num_workers=self.cpus)\n",
    "dl=FashionMNISTData()"
   ]
  },
  {
   "cell_type": "code",
   "execution_count": 6,
   "id": "2258da66",
   "metadata": {},
   "outputs": [
    {
     "name": "stdout",
     "output_type": "stream",
     "text": [
      "tensor([[0.4887]])\n"
     ]
    }
   ],
   "source": [
    "class Discriminator(nn.Module):\n",
    "    def __init__(self):\n",
    "        super().__init__()\n",
    "        self.model=nn.Sequential(\n",
    "            nn.Flatten(),\n",
    "            nn.Linear(784,512),\n",
    "            nn.LeakyReLU(0.2,inplace=True),\n",
    "            nn.Linear(512,256),\n",
    "            nn.LeakyReLU(0.2,inplace=True),\n",
    "            nn.Linear(256,1),\n",
    "            nn.Sigmoid()\n",
    "        )\n",
    "    def forward(self,x):\n",
    "        return (self.model(x))\n",
    "class Generator(nn.Module):\n",
    "    def __init__(self):\n",
    "        super().__init__()\n",
    "        self.dim=100\n",
    "        self.model=nn.Sequential(\n",
    "            nn.Linear(self.dim,128),\n",
    "            nn.LeakyReLU(),\n",
    "            nn.Linear(128,256),\n",
    "            nn.LeakyReLU(),\n",
    "            nn.Linear(256,512),\n",
    "            nn.LeakyReLU(),\n",
    "            nn.Linear(512,1024),\n",
    "            nn.LeakyReLU(),\n",
    "            nn.Linear(1024,784),\n",
    "            nn.Tanh(),\n",
    "            nn.Unflatten(1,(1,28,28))\n",
    "        )\n",
    "    def forward(self,x):\n",
    "        return self.model(x)\n",
    "with torch.no_grad():\n",
    "    print(Discriminator()(Generator()(torch.randn(1,100))))\n",
    "sum([p.numel() for p in Discriminator().model.parameters()]),sum([p.numel() for p in Generator().model.parameters()])"
   ]
  },
  {
   "cell_type": "code",
   "execution_count": 8,
   "id": "dffe050e",
   "metadata": {},
   "outputs": [],
   "source": [
    "class GAN(L.LightningModule):\n",
    "    def __init__(self):\n",
    "        super().__init__()\n",
    "        self.disc=Discriminator()\n",
    "        self.gen=Generator()\n",
    "        self.example_input_array=(torch.rand(batch_size,1,28,28))\n",
    "        self.img_arr=torch.randn(9,self.gen.dim,device='cuda')\n",
    "        self.automatic_optimization=False\n",
    "        self.loss=F.binary_cross_entropy\n",
    "        self.img_count=torch.tensor(0,requires_grad=False)\n",
    "\n",
    "    def configure_optimizers(self):\n",
    "        return [optim.Adam(self.gen.parameters(),1e-5),optim.Adam(self.disc.parameters(),1e-5)]\n",
    "    \n",
    "    def forward(self,x):\n",
    "        return self.disc(x),self.gen(torch.rand((x.shape[0],self.gen.dim),device=x.device))\n",
    "    \n",
    "    def training_step(self,batch):\n",
    "        imgs,targets=batch\n",
    "        imgs=imgs.float()\n",
    "        noise=torch.randn((targets.shape[0],self.gen.dim)).type_as(imgs)\n",
    "        g_opt,d_opt=self.optimizers()\n",
    "\n",
    "        self.toggle_optimizer(g_opt)\n",
    "        self.gen_imgs=self.gen(noise)\n",
    "        false_outputs=self.disc(self.gen_imgs)\n",
    "        g_loss=self.loss(false_outputs,torch.full((targets.shape[0],1),0.8).type_as(imgs))\n",
    "\n",
    "        self.log('g_loss',g_loss,prog_bar=True,logger=True)\n",
    "        self.manual_backward(g_loss)\n",
    "        g_opt.step()\n",
    "        g_opt.zero_grad()\n",
    "        self.untoggle_optimizer(g_opt)\n",
    "\n",
    "        self.toggle_optimizer(d_opt)\n",
    "        true_loss=self.loss(self.disc(imgs),torch.full((targets.shape[0],1),0.8).type_as(imgs))\n",
    "        false_loss=self.loss(self.disc(self.gen_imgs.detach()),torch.full((targets.shape[0],1),0.2).type_as(imgs))\n",
    "        d_loss=(true_loss+false_loss)/2\n",
    "        self.log('d_loss',d_loss,prog_bar=True,logger=True)\n",
    "        self.manual_backward(d_loss)\n",
    "        d_opt.step()\n",
    "        d_opt.zero_grad()\n",
    "        self.untoggle_optimizer(d_opt)\n",
    "\n",
    "    def validation_step(self,batch,batch_idx):\n",
    "        pass\n",
    "\n",
    "    def on_train_epoch_end(self):\n",
    "        sample_imgs=(self.gen(self.img_arr)+1)/2\n",
    "        grid=torchvision.utils.make_grid(sample_imgs,nrow=3).detach().cpu().numpy().T\n",
    "        plt.imshow(grid)\n",
    "        plt.axis(False)\n",
    "        plt.savefig(f\"./img/{self.img_count}.png\")\n",
    "        self.img_count+=1"
   ]
  },
  {
   "cell_type": "code",
   "execution_count": 9,
   "id": "e670037e",
   "metadata": {},
   "outputs": [
    {
     "name": "stdout",
     "output_type": "stream",
     "text": [
      "(tensor([[0.5086]]), tensor([[[[ 0.0067,  0.0220,  0.0147, -0.0298,  0.0396, -0.0048, -0.0056,\n",
      "            0.0423,  0.0272, -0.0314,  0.0251, -0.0178, -0.0441, -0.0453,\n",
      "            0.0035, -0.0200, -0.0117,  0.0050, -0.0075,  0.0299,  0.0072,\n",
      "           -0.0233,  0.0212, -0.0064, -0.0129,  0.0075,  0.0178,  0.0001],\n",
      "          [ 0.0248, -0.0005, -0.0518, -0.0046, -0.0443,  0.0051, -0.0097,\n",
      "            0.0129, -0.0070, -0.0113, -0.0029,  0.0065,  0.0013,  0.0078,\n",
      "            0.0120,  0.0169, -0.0248, -0.0320, -0.0360, -0.0426, -0.0161,\n",
      "           -0.0544, -0.0083, -0.0082, -0.0220,  0.0173, -0.0196, -0.0156],\n",
      "          [ 0.0255, -0.0029,  0.0062,  0.0195,  0.0479, -0.0098,  0.0182,\n",
      "           -0.0047,  0.0265,  0.0012,  0.0376, -0.0124,  0.0235, -0.0140,\n",
      "           -0.0490, -0.0134, -0.0241,  0.0083,  0.0026, -0.0118,  0.0300,\n",
      "           -0.0054, -0.0046, -0.0013,  0.0133, -0.0410,  0.0158, -0.0046],\n",
      "          [-0.0043, -0.0423, -0.0081, -0.0196, -0.0236, -0.0087, -0.0030,\n",
      "           -0.0141, -0.0075,  0.0287,  0.0408, -0.0204, -0.0055, -0.0069,\n",
      "            0.0046,  0.0100, -0.0057, -0.0055, -0.0291,  0.0052,  0.0440,\n",
      "           -0.0053, -0.0166,  0.0222, -0.0011, -0.0056, -0.0317, -0.0276],\n",
      "          [ 0.0135, -0.0258,  0.0144, -0.0176,  0.0111, -0.0167, -0.0002,\n",
      "           -0.0194, -0.0317,  0.0021,  0.0223, -0.0287, -0.0095, -0.0250,\n",
      "            0.0315,  0.0250, -0.0138, -0.0125, -0.0327,  0.0076,  0.0131,\n",
      "           -0.0161, -0.0487, -0.0140,  0.0043, -0.0186, -0.0090, -0.0076],\n",
      "          [ 0.0279, -0.0498,  0.0400,  0.0203,  0.0121,  0.0176, -0.0151,\n",
      "           -0.0038, -0.0637,  0.0222,  0.0348,  0.0194,  0.0422,  0.0186,\n",
      "           -0.0112, -0.0096,  0.0177, -0.0340,  0.0050,  0.0161,  0.0187,\n",
      "           -0.0484, -0.0095, -0.0275, -0.0040, -0.0317, -0.0114,  0.0414],\n",
      "          [-0.0117, -0.0272,  0.0173,  0.0018, -0.0119, -0.0195,  0.0131,\n",
      "            0.0505,  0.0096,  0.0449, -0.0171,  0.0171,  0.0070, -0.0089,\n",
      "            0.0141, -0.0381, -0.0274, -0.0199, -0.0026,  0.0170,  0.0300,\n",
      "           -0.0233,  0.0287, -0.0092, -0.0044, -0.0364,  0.0042, -0.0329],\n",
      "          [ 0.0206, -0.0286,  0.0064,  0.0073, -0.0050, -0.0447,  0.0257,\n",
      "            0.0421,  0.0577,  0.0090, -0.0261, -0.0253, -0.0035,  0.0191,\n",
      "           -0.0029, -0.0052, -0.0077,  0.0205, -0.0111, -0.0038,  0.0010,\n",
      "            0.0507,  0.0007,  0.0387, -0.0430, -0.0361,  0.0028, -0.0073],\n",
      "          [-0.0452, -0.0478,  0.0052,  0.0148,  0.0140,  0.0325, -0.0190,\n",
      "            0.0502,  0.0102, -0.0399, -0.0264, -0.0439, -0.0388,  0.0225,\n",
      "           -0.0298,  0.0029, -0.0439,  0.0267,  0.0301, -0.0124,  0.0105,\n",
      "            0.0207,  0.0326,  0.0061,  0.0004, -0.0263,  0.0203,  0.0247],\n",
      "          [-0.0021, -0.0271,  0.0104, -0.0090,  0.0317, -0.0311,  0.0139,\n",
      "            0.0166, -0.0128,  0.0594, -0.0026,  0.0076, -0.0080,  0.0392,\n",
      "            0.0006, -0.0137, -0.0489,  0.0062, -0.0274,  0.0027, -0.0196,\n",
      "            0.0345,  0.0166,  0.0391, -0.0343,  0.0011,  0.0069, -0.0360],\n",
      "          [ 0.0379,  0.0037, -0.0067,  0.0321,  0.0484,  0.0102, -0.0275,\n",
      "            0.0106, -0.0174, -0.0082,  0.0138,  0.0046, -0.0016,  0.0217,\n",
      "           -0.0152, -0.0256, -0.0062, -0.0133, -0.0086, -0.0067,  0.0207,\n",
      "            0.0391,  0.0032, -0.0213, -0.0141, -0.0014, -0.0003, -0.0171],\n",
      "          [-0.0022, -0.0014,  0.0132,  0.0196, -0.0028,  0.0036, -0.0104,\n",
      "           -0.0316,  0.0031, -0.0089,  0.0156, -0.0149, -0.0092,  0.0156,\n",
      "            0.0200, -0.0069, -0.0253,  0.0141,  0.0071,  0.0228, -0.0129,\n",
      "           -0.0073, -0.0479, -0.0293,  0.0275,  0.0082, -0.0004,  0.0159],\n",
      "          [-0.0315, -0.0358, -0.0432, -0.0033, -0.0096,  0.0128, -0.0444,\n",
      "            0.0408, -0.0430,  0.0247, -0.0263, -0.0145,  0.0519, -0.0183,\n",
      "            0.0103,  0.0050,  0.0211,  0.0086,  0.0036, -0.0109, -0.0179,\n",
      "            0.0254,  0.0385,  0.0305, -0.0306,  0.0244,  0.0056,  0.0226],\n",
      "          [ 0.0234, -0.0173,  0.0490, -0.0264,  0.0004, -0.0358,  0.0238,\n",
      "           -0.0087, -0.0202,  0.0198, -0.0029, -0.0210, -0.0162, -0.0378,\n",
      "            0.0011,  0.0183,  0.0407, -0.0275,  0.0180, -0.0443,  0.0054,\n",
      "           -0.0482,  0.0026, -0.0309, -0.0141, -0.0100, -0.0194, -0.0367],\n",
      "          [ 0.0024, -0.0249,  0.0278, -0.0136,  0.0259,  0.0118,  0.0443,\n",
      "           -0.0359, -0.0035, -0.0147, -0.0396,  0.0363,  0.0443, -0.0028,\n",
      "            0.0243, -0.0302, -0.0187,  0.0185,  0.0155, -0.0134, -0.0250,\n",
      "           -0.0332,  0.0069,  0.0024, -0.0263, -0.0204,  0.0219,  0.0204],\n",
      "          [ 0.0447,  0.0103,  0.0335, -0.0166, -0.0188,  0.0029, -0.0104,\n",
      "            0.0242,  0.0020, -0.0342, -0.0206,  0.0001, -0.0230, -0.0199,\n",
      "            0.0119, -0.0027,  0.0287,  0.0039, -0.0206, -0.0152,  0.0226,\n",
      "           -0.0249, -0.0427, -0.0375, -0.0005,  0.0470, -0.0089,  0.0111],\n",
      "          [-0.0378,  0.0368,  0.0178, -0.0318,  0.0029, -0.0257, -0.0133,\n",
      "            0.0052,  0.0125, -0.0201,  0.0277, -0.0207, -0.0034,  0.0003,\n",
      "           -0.0260,  0.0206,  0.0069,  0.0056,  0.0364,  0.0123, -0.0074,\n",
      "            0.0149,  0.0379,  0.0338,  0.0721,  0.0108, -0.0117, -0.0066],\n",
      "          [-0.0228,  0.0112, -0.0185,  0.0287, -0.0066, -0.0009, -0.0052,\n",
      "           -0.0324,  0.0213, -0.0373, -0.0172,  0.0252,  0.0362, -0.0014,\n",
      "           -0.0243,  0.0030,  0.0121, -0.0075, -0.0043, -0.0151,  0.0209,\n",
      "            0.0031, -0.0014, -0.0011, -0.0193,  0.0100, -0.0253, -0.0305],\n",
      "          [-0.0268, -0.0450, -0.0179,  0.0365, -0.0030,  0.0157,  0.0245,\n",
      "            0.0422,  0.0126, -0.0039,  0.0186,  0.0014, -0.0062,  0.0205,\n",
      "            0.0413,  0.0272,  0.0262, -0.0022,  0.0531,  0.0338,  0.0133,\n",
      "           -0.0096, -0.0190,  0.0002, -0.0208, -0.0283, -0.0458,  0.0057],\n",
      "          [-0.0278,  0.0163, -0.0089,  0.0143,  0.0048,  0.0232, -0.0075,\n",
      "           -0.0156, -0.0628, -0.0005,  0.0179,  0.0244,  0.0167, -0.0103,\n",
      "            0.0004, -0.0300,  0.0299, -0.0036,  0.0243,  0.0126,  0.0032,\n",
      "           -0.0479, -0.0273,  0.0180, -0.0305, -0.0380, -0.0163,  0.0320],\n",
      "          [-0.0119,  0.0454, -0.0062, -0.0038,  0.0183, -0.0377, -0.0426,\n",
      "            0.0028, -0.0220, -0.0106, -0.0045,  0.0109,  0.0043, -0.0246,\n",
      "            0.0086,  0.0513,  0.0178, -0.0067,  0.0367, -0.0107,  0.0095,\n",
      "           -0.0085,  0.0379,  0.0066, -0.0224, -0.0110, -0.0048,  0.0165],\n",
      "          [-0.0324, -0.0259,  0.0118,  0.0152, -0.0058,  0.0051, -0.0191,\n",
      "           -0.0077,  0.0171, -0.0184, -0.0219,  0.0096, -0.0134, -0.0282,\n",
      "           -0.0160, -0.0249, -0.0066, -0.0133,  0.0276, -0.0326,  0.0076,\n",
      "            0.0438,  0.0165, -0.0014,  0.0003, -0.0359,  0.0066, -0.0336],\n",
      "          [ 0.0102, -0.0406,  0.0238, -0.0015, -0.0287,  0.0278,  0.0473,\n",
      "            0.0343,  0.0248, -0.0329, -0.0028, -0.0609,  0.0100,  0.0163,\n",
      "           -0.0012,  0.0234,  0.0097,  0.0146, -0.0103, -0.0051,  0.0322,\n",
      "           -0.0305, -0.0045, -0.0046, -0.0063,  0.0171,  0.0477, -0.0027],\n",
      "          [-0.0189, -0.0138,  0.0007,  0.0136,  0.0212,  0.0240,  0.0178,\n",
      "           -0.0041, -0.0165, -0.0103,  0.0057, -0.0008, -0.0210,  0.0151,\n",
      "           -0.0005, -0.0040, -0.0001, -0.0051,  0.0036, -0.0096,  0.0138,\n",
      "           -0.0030,  0.0264,  0.0267, -0.0212,  0.0003,  0.0089, -0.0006],\n",
      "          [ 0.0272,  0.0018,  0.0052, -0.0093,  0.0075, -0.0212,  0.0078,\n",
      "           -0.0289,  0.0064, -0.0276,  0.0236,  0.0083, -0.0069,  0.0158,\n",
      "           -0.0402,  0.0053, -0.0215, -0.0101,  0.0131, -0.0245,  0.0260,\n",
      "           -0.0583, -0.0353, -0.0089,  0.0403, -0.0335,  0.0081,  0.0210],\n",
      "          [-0.0029,  0.0186,  0.0348, -0.0003, -0.0186, -0.0169,  0.0490,\n",
      "           -0.0398,  0.0154,  0.0245,  0.0106,  0.0115, -0.0037,  0.0227,\n",
      "           -0.0264,  0.0080, -0.0079,  0.0286, -0.0020,  0.0334, -0.0006,\n",
      "            0.0199, -0.0262,  0.0453, -0.0303, -0.0083, -0.0382, -0.0106],\n",
      "          [-0.0025,  0.0162,  0.0378, -0.0302, -0.0446,  0.0145,  0.0330,\n",
      "           -0.0266,  0.0142, -0.0055,  0.0486, -0.0341,  0.0256, -0.0237,\n",
      "           -0.0166, -0.0094, -0.0037,  0.0011, -0.0104, -0.0273,  0.0048,\n",
      "            0.0276,  0.0003, -0.0145,  0.0342, -0.0088,  0.0194, -0.0253],\n",
      "          [ 0.0162,  0.0099, -0.0131,  0.0594, -0.0080,  0.0205,  0.0354,\n",
      "            0.0361, -0.0031, -0.0144,  0.0720,  0.0009, -0.0233, -0.0104,\n",
      "            0.0318,  0.0372, -0.0033, -0.0028,  0.0415, -0.0282, -0.0455,\n",
      "            0.0191, -0.0114,  0.0185,  0.0142, -0.0158,  0.0331, -0.0387]]]]))\n"
     ]
    }
   ],
   "source": [
    "model=GAN()\n",
    "with torch.no_grad():\n",
    "    print(GAN()(torch.randn(1,28,28)))"
   ]
  },
  {
   "cell_type": "code",
   "execution_count": 10,
   "id": "627b8a9a",
   "metadata": {},
   "outputs": [
    {
     "name": "stderr",
     "output_type": "stream",
     "text": [
      "You are using the plain ModelCheckpoint callback. Consider using LitModelCheckpoint which with seamless uploading to Model registry.\n",
      "Trainer already configured with model summary callbacks: [<class 'lightning.pytorch.callbacks.rich_model_summary.RichModelSummary'>]. Skipping setting a default `ModelSummary` callback.\n",
      "GPU available: True (cuda), used: True\n",
      "TPU available: False, using: 0 TPU cores\n",
      "HPU available: False, using: 0 HPUs\n",
      "/opt/conda/lib/python3.11/site-packages/lightning/pytorch/trainer/connectors/logger_connector/logger_connector.py:76: Starting from v1.9.0, `tensorboardX` has been removed as a dependency of the `lightning.pytorch` package, due to potential conflicts with other packages in the ML ecosystem. For this reason, `logger=True` will use `CSVLogger` as the default logger, unless the `tensorboard` or `tensorboardX` packages are found. Please `pip install lightning[extra]` or one of them to enable TensorBoard support by default\n"
     ]
    }
   ],
   "source": [
    "trainer=L.Trainer(\n",
    "    max_epochs=100,\n",
    "    callbacks=[RichModelSummary(max_depth=-1)]\n",
    ")"
   ]
  },
  {
   "cell_type": "code",
   "execution_count": 11,
   "id": "80dd52f5",
   "metadata": {},
   "outputs": [
    {
     "name": "stderr",
     "output_type": "stream",
     "text": [
      "You are using a CUDA device ('NVIDIA GeForce RTX 3070 Ti Laptop GPU') that has Tensor Cores. To properly utilize them, you should set `torch.set_float32_matmul_precision('medium' | 'high')` which will trade-off precision for performance. For more details, read https://pytorch.org/docs/stable/generated/torch.set_float32_matmul_precision.html#torch.set_float32_matmul_precision\n",
      "LOCAL_RANK: 0 - CUDA_VISIBLE_DEVICES: [0]\n"
     ]
    },
    {
     "data": {
      "text/html": [
       "<pre style=\"white-space:pre;overflow-x:auto;line-height:normal;font-family:Menlo,'DejaVu Sans Mono',consolas,'Courier New',monospace\">┏━━━━┳━━━━━━━━━━━━━━┳━━━━━━━━━━━━━━━┳━━━━━━━━┳━━━━━━━┳━━━━━━━━━━━━━━━━━━┳━━━━━━━━━━━━━━━━━━┓\n",
       "┃<span style=\"color: #800080; text-decoration-color: #800080; font-weight: bold\">    </span>┃<span style=\"color: #800080; text-decoration-color: #800080; font-weight: bold\"> Name         </span>┃<span style=\"color: #800080; text-decoration-color: #800080; font-weight: bold\"> Type          </span>┃<span style=\"color: #800080; text-decoration-color: #800080; font-weight: bold\"> Params </span>┃<span style=\"color: #800080; text-decoration-color: #800080; font-weight: bold\"> Mode  </span>┃<span style=\"color: #800080; text-decoration-color: #800080; font-weight: bold\">         In sizes </span>┃<span style=\"color: #800080; text-decoration-color: #800080; font-weight: bold\">        Out sizes </span>┃\n",
       "┡━━━━╇━━━━━━━━━━━━━━╇━━━━━━━━━━━━━━━╇━━━━━━━━╇━━━━━━━╇━━━━━━━━━━━━━━━━━━╇━━━━━━━━━━━━━━━━━━┩\n",
       "│<span style=\"color: #7f7f7f; text-decoration-color: #7f7f7f\"> 0  </span>│ disc         │ Discriminator │  533 K │ train │<span style=\"color: #c0c0c0; text-decoration-color: #c0c0c0\"> [512, 1, 28, 28] </span>│<span style=\"color: #c0c0c0; text-decoration-color: #c0c0c0\">         [512, 1] </span>│\n",
       "│<span style=\"color: #7f7f7f; text-decoration-color: #7f7f7f\"> 1  </span>│ disc.model   │ Sequential    │  533 K │ train │<span style=\"color: #c0c0c0; text-decoration-color: #c0c0c0\"> [512, 1, 28, 28] </span>│<span style=\"color: #c0c0c0; text-decoration-color: #c0c0c0\">         [512, 1] </span>│\n",
       "│<span style=\"color: #7f7f7f; text-decoration-color: #7f7f7f\"> 2  </span>│ disc.model.0 │ Flatten       │      0 │ train │<span style=\"color: #c0c0c0; text-decoration-color: #c0c0c0\"> [512, 1, 28, 28] </span>│<span style=\"color: #c0c0c0; text-decoration-color: #c0c0c0\">       [512, 784] </span>│\n",
       "│<span style=\"color: #7f7f7f; text-decoration-color: #7f7f7f\"> 3  </span>│ disc.model.1 │ Linear        │  401 K │ train │<span style=\"color: #c0c0c0; text-decoration-color: #c0c0c0\">       [512, 784] </span>│<span style=\"color: #c0c0c0; text-decoration-color: #c0c0c0\">       [512, 512] </span>│\n",
       "│<span style=\"color: #7f7f7f; text-decoration-color: #7f7f7f\"> 4  </span>│ disc.model.2 │ LeakyReLU     │      0 │ train │<span style=\"color: #c0c0c0; text-decoration-color: #c0c0c0\">       [512, 512] </span>│<span style=\"color: #c0c0c0; text-decoration-color: #c0c0c0\">       [512, 512] </span>│\n",
       "│<span style=\"color: #7f7f7f; text-decoration-color: #7f7f7f\"> 5  </span>│ disc.model.3 │ Linear        │  131 K │ train │<span style=\"color: #c0c0c0; text-decoration-color: #c0c0c0\">       [512, 512] </span>│<span style=\"color: #c0c0c0; text-decoration-color: #c0c0c0\">       [512, 256] </span>│\n",
       "│<span style=\"color: #7f7f7f; text-decoration-color: #7f7f7f\"> 6  </span>│ disc.model.4 │ LeakyReLU     │      0 │ train │<span style=\"color: #c0c0c0; text-decoration-color: #c0c0c0\">       [512, 256] </span>│<span style=\"color: #c0c0c0; text-decoration-color: #c0c0c0\">       [512, 256] </span>│\n",
       "│<span style=\"color: #7f7f7f; text-decoration-color: #7f7f7f\"> 7  </span>│ disc.model.5 │ Linear        │    257 │ train │<span style=\"color: #c0c0c0; text-decoration-color: #c0c0c0\">       [512, 256] </span>│<span style=\"color: #c0c0c0; text-decoration-color: #c0c0c0\">         [512, 1] </span>│\n",
       "│<span style=\"color: #7f7f7f; text-decoration-color: #7f7f7f\"> 8  </span>│ disc.model.6 │ Sigmoid       │      0 │ train │<span style=\"color: #c0c0c0; text-decoration-color: #c0c0c0\">         [512, 1] </span>│<span style=\"color: #c0c0c0; text-decoration-color: #c0c0c0\">         [512, 1] </span>│\n",
       "│<span style=\"color: #7f7f7f; text-decoration-color: #7f7f7f\"> 9  </span>│ gen          │ Generator     │  1.5 M │ train │<span style=\"color: #c0c0c0; text-decoration-color: #c0c0c0\">       [512, 100] </span>│<span style=\"color: #c0c0c0; text-decoration-color: #c0c0c0\"> [512, 1, 28, 28] </span>│\n",
       "│<span style=\"color: #7f7f7f; text-decoration-color: #7f7f7f\"> 10 </span>│ gen.model    │ Sequential    │  1.5 M │ train │<span style=\"color: #c0c0c0; text-decoration-color: #c0c0c0\">       [512, 100] </span>│<span style=\"color: #c0c0c0; text-decoration-color: #c0c0c0\"> [512, 1, 28, 28] </span>│\n",
       "│<span style=\"color: #7f7f7f; text-decoration-color: #7f7f7f\"> 11 </span>│ gen.model.0  │ Linear        │ 12.9 K │ train │<span style=\"color: #c0c0c0; text-decoration-color: #c0c0c0\">       [512, 100] </span>│<span style=\"color: #c0c0c0; text-decoration-color: #c0c0c0\">       [512, 128] </span>│\n",
       "│<span style=\"color: #7f7f7f; text-decoration-color: #7f7f7f\"> 12 </span>│ gen.model.1  │ LeakyReLU     │      0 │ train │<span style=\"color: #c0c0c0; text-decoration-color: #c0c0c0\">       [512, 128] </span>│<span style=\"color: #c0c0c0; text-decoration-color: #c0c0c0\">       [512, 128] </span>│\n",
       "│<span style=\"color: #7f7f7f; text-decoration-color: #7f7f7f\"> 13 </span>│ gen.model.2  │ Linear        │ 33.0 K │ train │<span style=\"color: #c0c0c0; text-decoration-color: #c0c0c0\">       [512, 128] </span>│<span style=\"color: #c0c0c0; text-decoration-color: #c0c0c0\">       [512, 256] </span>│\n",
       "│<span style=\"color: #7f7f7f; text-decoration-color: #7f7f7f\"> 14 </span>│ gen.model.3  │ LeakyReLU     │      0 │ train │<span style=\"color: #c0c0c0; text-decoration-color: #c0c0c0\">       [512, 256] </span>│<span style=\"color: #c0c0c0; text-decoration-color: #c0c0c0\">       [512, 256] </span>│\n",
       "│<span style=\"color: #7f7f7f; text-decoration-color: #7f7f7f\"> 15 </span>│ gen.model.4  │ Linear        │  131 K │ train │<span style=\"color: #c0c0c0; text-decoration-color: #c0c0c0\">       [512, 256] </span>│<span style=\"color: #c0c0c0; text-decoration-color: #c0c0c0\">       [512, 512] </span>│\n",
       "│<span style=\"color: #7f7f7f; text-decoration-color: #7f7f7f\"> 16 </span>│ gen.model.5  │ LeakyReLU     │      0 │ train │<span style=\"color: #c0c0c0; text-decoration-color: #c0c0c0\">       [512, 512] </span>│<span style=\"color: #c0c0c0; text-decoration-color: #c0c0c0\">       [512, 512] </span>│\n",
       "│<span style=\"color: #7f7f7f; text-decoration-color: #7f7f7f\"> 17 </span>│ gen.model.6  │ Linear        │  525 K │ train │<span style=\"color: #c0c0c0; text-decoration-color: #c0c0c0\">       [512, 512] </span>│<span style=\"color: #c0c0c0; text-decoration-color: #c0c0c0\">      [512, 1024] </span>│\n",
       "│<span style=\"color: #7f7f7f; text-decoration-color: #7f7f7f\"> 18 </span>│ gen.model.7  │ LeakyReLU     │      0 │ train │<span style=\"color: #c0c0c0; text-decoration-color: #c0c0c0\">      [512, 1024] </span>│<span style=\"color: #c0c0c0; text-decoration-color: #c0c0c0\">      [512, 1024] </span>│\n",
       "│<span style=\"color: #7f7f7f; text-decoration-color: #7f7f7f\"> 19 </span>│ gen.model.8  │ Linear        │  803 K │ train │<span style=\"color: #c0c0c0; text-decoration-color: #c0c0c0\">      [512, 1024] </span>│<span style=\"color: #c0c0c0; text-decoration-color: #c0c0c0\">       [512, 784] </span>│\n",
       "│<span style=\"color: #7f7f7f; text-decoration-color: #7f7f7f\"> 20 </span>│ gen.model.9  │ Tanh          │      0 │ train │<span style=\"color: #c0c0c0; text-decoration-color: #c0c0c0\">       [512, 784] </span>│<span style=\"color: #c0c0c0; text-decoration-color: #c0c0c0\">       [512, 784] </span>│\n",
       "│<span style=\"color: #7f7f7f; text-decoration-color: #7f7f7f\"> 21 </span>│ gen.model.10 │ Unflatten     │      0 │ train │<span style=\"color: #c0c0c0; text-decoration-color: #c0c0c0\">       [512, 784] </span>│<span style=\"color: #c0c0c0; text-decoration-color: #c0c0c0\"> [512, 1, 28, 28] </span>│\n",
       "└────┴──────────────┴───────────────┴────────┴───────┴──────────────────┴──────────────────┘\n",
       "</pre>\n"
      ],
      "text/plain": [
       "┏━━━━┳━━━━━━━━━━━━━━┳━━━━━━━━━━━━━━━┳━━━━━━━━┳━━━━━━━┳━━━━━━━━━━━━━━━━━━┳━━━━━━━━━━━━━━━━━━┓\n",
       "┃\u001b[1;35m \u001b[0m\u001b[1;35m  \u001b[0m\u001b[1;35m \u001b[0m┃\u001b[1;35m \u001b[0m\u001b[1;35mName        \u001b[0m\u001b[1;35m \u001b[0m┃\u001b[1;35m \u001b[0m\u001b[1;35mType         \u001b[0m\u001b[1;35m \u001b[0m┃\u001b[1;35m \u001b[0m\u001b[1;35mParams\u001b[0m\u001b[1;35m \u001b[0m┃\u001b[1;35m \u001b[0m\u001b[1;35mMode \u001b[0m\u001b[1;35m \u001b[0m┃\u001b[1;35m \u001b[0m\u001b[1;35m        In sizes\u001b[0m\u001b[1;35m \u001b[0m┃\u001b[1;35m \u001b[0m\u001b[1;35m       Out sizes\u001b[0m\u001b[1;35m \u001b[0m┃\n",
       "┡━━━━╇━━━━━━━━━━━━━━╇━━━━━━━━━━━━━━━╇━━━━━━━━╇━━━━━━━╇━━━━━━━━━━━━━━━━━━╇━━━━━━━━━━━━━━━━━━┩\n",
       "│\u001b[2m \u001b[0m\u001b[2m0 \u001b[0m\u001b[2m \u001b[0m│ disc         │ Discriminator │  533 K │ train │\u001b[37m \u001b[0m\u001b[37m[512, 1, 28, 28]\u001b[0m\u001b[37m \u001b[0m│\u001b[37m \u001b[0m\u001b[37m        [512, 1]\u001b[0m\u001b[37m \u001b[0m│\n",
       "│\u001b[2m \u001b[0m\u001b[2m1 \u001b[0m\u001b[2m \u001b[0m│ disc.model   │ Sequential    │  533 K │ train │\u001b[37m \u001b[0m\u001b[37m[512, 1, 28, 28]\u001b[0m\u001b[37m \u001b[0m│\u001b[37m \u001b[0m\u001b[37m        [512, 1]\u001b[0m\u001b[37m \u001b[0m│\n",
       "│\u001b[2m \u001b[0m\u001b[2m2 \u001b[0m\u001b[2m \u001b[0m│ disc.model.0 │ Flatten       │      0 │ train │\u001b[37m \u001b[0m\u001b[37m[512, 1, 28, 28]\u001b[0m\u001b[37m \u001b[0m│\u001b[37m \u001b[0m\u001b[37m      [512, 784]\u001b[0m\u001b[37m \u001b[0m│\n",
       "│\u001b[2m \u001b[0m\u001b[2m3 \u001b[0m\u001b[2m \u001b[0m│ disc.model.1 │ Linear        │  401 K │ train │\u001b[37m \u001b[0m\u001b[37m      [512, 784]\u001b[0m\u001b[37m \u001b[0m│\u001b[37m \u001b[0m\u001b[37m      [512, 512]\u001b[0m\u001b[37m \u001b[0m│\n",
       "│\u001b[2m \u001b[0m\u001b[2m4 \u001b[0m\u001b[2m \u001b[0m│ disc.model.2 │ LeakyReLU     │      0 │ train │\u001b[37m \u001b[0m\u001b[37m      [512, 512]\u001b[0m\u001b[37m \u001b[0m│\u001b[37m \u001b[0m\u001b[37m      [512, 512]\u001b[0m\u001b[37m \u001b[0m│\n",
       "│\u001b[2m \u001b[0m\u001b[2m5 \u001b[0m\u001b[2m \u001b[0m│ disc.model.3 │ Linear        │  131 K │ train │\u001b[37m \u001b[0m\u001b[37m      [512, 512]\u001b[0m\u001b[37m \u001b[0m│\u001b[37m \u001b[0m\u001b[37m      [512, 256]\u001b[0m\u001b[37m \u001b[0m│\n",
       "│\u001b[2m \u001b[0m\u001b[2m6 \u001b[0m\u001b[2m \u001b[0m│ disc.model.4 │ LeakyReLU     │      0 │ train │\u001b[37m \u001b[0m\u001b[37m      [512, 256]\u001b[0m\u001b[37m \u001b[0m│\u001b[37m \u001b[0m\u001b[37m      [512, 256]\u001b[0m\u001b[37m \u001b[0m│\n",
       "│\u001b[2m \u001b[0m\u001b[2m7 \u001b[0m\u001b[2m \u001b[0m│ disc.model.5 │ Linear        │    257 │ train │\u001b[37m \u001b[0m\u001b[37m      [512, 256]\u001b[0m\u001b[37m \u001b[0m│\u001b[37m \u001b[0m\u001b[37m        [512, 1]\u001b[0m\u001b[37m \u001b[0m│\n",
       "│\u001b[2m \u001b[0m\u001b[2m8 \u001b[0m\u001b[2m \u001b[0m│ disc.model.6 │ Sigmoid       │      0 │ train │\u001b[37m \u001b[0m\u001b[37m        [512, 1]\u001b[0m\u001b[37m \u001b[0m│\u001b[37m \u001b[0m\u001b[37m        [512, 1]\u001b[0m\u001b[37m \u001b[0m│\n",
       "│\u001b[2m \u001b[0m\u001b[2m9 \u001b[0m\u001b[2m \u001b[0m│ gen          │ Generator     │  1.5 M │ train │\u001b[37m \u001b[0m\u001b[37m      [512, 100]\u001b[0m\u001b[37m \u001b[0m│\u001b[37m \u001b[0m\u001b[37m[512, 1, 28, 28]\u001b[0m\u001b[37m \u001b[0m│\n",
       "│\u001b[2m \u001b[0m\u001b[2m10\u001b[0m\u001b[2m \u001b[0m│ gen.model    │ Sequential    │  1.5 M │ train │\u001b[37m \u001b[0m\u001b[37m      [512, 100]\u001b[0m\u001b[37m \u001b[0m│\u001b[37m \u001b[0m\u001b[37m[512, 1, 28, 28]\u001b[0m\u001b[37m \u001b[0m│\n",
       "│\u001b[2m \u001b[0m\u001b[2m11\u001b[0m\u001b[2m \u001b[0m│ gen.model.0  │ Linear        │ 12.9 K │ train │\u001b[37m \u001b[0m\u001b[37m      [512, 100]\u001b[0m\u001b[37m \u001b[0m│\u001b[37m \u001b[0m\u001b[37m      [512, 128]\u001b[0m\u001b[37m \u001b[0m│\n",
       "│\u001b[2m \u001b[0m\u001b[2m12\u001b[0m\u001b[2m \u001b[0m│ gen.model.1  │ LeakyReLU     │      0 │ train │\u001b[37m \u001b[0m\u001b[37m      [512, 128]\u001b[0m\u001b[37m \u001b[0m│\u001b[37m \u001b[0m\u001b[37m      [512, 128]\u001b[0m\u001b[37m \u001b[0m│\n",
       "│\u001b[2m \u001b[0m\u001b[2m13\u001b[0m\u001b[2m \u001b[0m│ gen.model.2  │ Linear        │ 33.0 K │ train │\u001b[37m \u001b[0m\u001b[37m      [512, 128]\u001b[0m\u001b[37m \u001b[0m│\u001b[37m \u001b[0m\u001b[37m      [512, 256]\u001b[0m\u001b[37m \u001b[0m│\n",
       "│\u001b[2m \u001b[0m\u001b[2m14\u001b[0m\u001b[2m \u001b[0m│ gen.model.3  │ LeakyReLU     │      0 │ train │\u001b[37m \u001b[0m\u001b[37m      [512, 256]\u001b[0m\u001b[37m \u001b[0m│\u001b[37m \u001b[0m\u001b[37m      [512, 256]\u001b[0m\u001b[37m \u001b[0m│\n",
       "│\u001b[2m \u001b[0m\u001b[2m15\u001b[0m\u001b[2m \u001b[0m│ gen.model.4  │ Linear        │  131 K │ train │\u001b[37m \u001b[0m\u001b[37m      [512, 256]\u001b[0m\u001b[37m \u001b[0m│\u001b[37m \u001b[0m\u001b[37m      [512, 512]\u001b[0m\u001b[37m \u001b[0m│\n",
       "│\u001b[2m \u001b[0m\u001b[2m16\u001b[0m\u001b[2m \u001b[0m│ gen.model.5  │ LeakyReLU     │      0 │ train │\u001b[37m \u001b[0m\u001b[37m      [512, 512]\u001b[0m\u001b[37m \u001b[0m│\u001b[37m \u001b[0m\u001b[37m      [512, 512]\u001b[0m\u001b[37m \u001b[0m│\n",
       "│\u001b[2m \u001b[0m\u001b[2m17\u001b[0m\u001b[2m \u001b[0m│ gen.model.6  │ Linear        │  525 K │ train │\u001b[37m \u001b[0m\u001b[37m      [512, 512]\u001b[0m\u001b[37m \u001b[0m│\u001b[37m \u001b[0m\u001b[37m     [512, 1024]\u001b[0m\u001b[37m \u001b[0m│\n",
       "│\u001b[2m \u001b[0m\u001b[2m18\u001b[0m\u001b[2m \u001b[0m│ gen.model.7  │ LeakyReLU     │      0 │ train │\u001b[37m \u001b[0m\u001b[37m     [512, 1024]\u001b[0m\u001b[37m \u001b[0m│\u001b[37m \u001b[0m\u001b[37m     [512, 1024]\u001b[0m\u001b[37m \u001b[0m│\n",
       "│\u001b[2m \u001b[0m\u001b[2m19\u001b[0m\u001b[2m \u001b[0m│ gen.model.8  │ Linear        │  803 K │ train │\u001b[37m \u001b[0m\u001b[37m     [512, 1024]\u001b[0m\u001b[37m \u001b[0m│\u001b[37m \u001b[0m\u001b[37m      [512, 784]\u001b[0m\u001b[37m \u001b[0m│\n",
       "│\u001b[2m \u001b[0m\u001b[2m20\u001b[0m\u001b[2m \u001b[0m│ gen.model.9  │ Tanh          │      0 │ train │\u001b[37m \u001b[0m\u001b[37m      [512, 784]\u001b[0m\u001b[37m \u001b[0m│\u001b[37m \u001b[0m\u001b[37m      [512, 784]\u001b[0m\u001b[37m \u001b[0m│\n",
       "│\u001b[2m \u001b[0m\u001b[2m21\u001b[0m\u001b[2m \u001b[0m│ gen.model.10 │ Unflatten     │      0 │ train │\u001b[37m \u001b[0m\u001b[37m      [512, 784]\u001b[0m\u001b[37m \u001b[0m│\u001b[37m \u001b[0m\u001b[37m[512, 1, 28, 28]\u001b[0m\u001b[37m \u001b[0m│\n",
       "└────┴──────────────┴───────────────┴────────┴───────┴──────────────────┴──────────────────┘\n"
      ]
     },
     "metadata": {},
     "output_type": "display_data"
    },
    {
     "data": {
      "text/html": [
       "<pre style=\"white-space:pre;overflow-x:auto;line-height:normal;font-family:Menlo,'DejaVu Sans Mono',consolas,'Courier New',monospace\"><span style=\"font-weight: bold\">Trainable params</span>: 2.0 M                                                                                            \n",
       "<span style=\"font-weight: bold\">Non-trainable params</span>: 0                                                                                            \n",
       "<span style=\"font-weight: bold\">Total params</span>: 2.0 M                                                                                                \n",
       "<span style=\"font-weight: bold\">Total estimated model params size (MB)</span>: 8                                                                          \n",
       "<span style=\"font-weight: bold\">Modules in train mode</span>: 22                                                                                          \n",
       "<span style=\"font-weight: bold\">Modules in eval mode</span>: 0                                                                                            \n",
       "</pre>\n"
      ],
      "text/plain": [
       "\u001b[1mTrainable params\u001b[0m: 2.0 M                                                                                            \n",
       "\u001b[1mNon-trainable params\u001b[0m: 0                                                                                            \n",
       "\u001b[1mTotal params\u001b[0m: 2.0 M                                                                                                \n",
       "\u001b[1mTotal estimated model params size (MB)\u001b[0m: 8                                                                          \n",
       "\u001b[1mModules in train mode\u001b[0m: 22                                                                                          \n",
       "\u001b[1mModules in eval mode\u001b[0m: 0                                                                                            \n"
      ]
     },
     "metadata": {},
     "output_type": "display_data"
    },
    {
     "data": {
      "application/vnd.jupyter.widget-view+json": {
       "model_id": "29f572cf6d1c46d0821a4ac268f9e023",
       "version_major": 2,
       "version_minor": 0
      },
      "text/plain": [
       "Sanity Checking: |          | 0/? [00:00<?, ?it/s]"
      ]
     },
     "metadata": {},
     "output_type": "display_data"
    },
    {
     "data": {
      "application/vnd.jupyter.widget-view+json": {
       "model_id": "37446856e3f047fdadac90af54ef3ef5",
       "version_major": 2,
       "version_minor": 0
      },
      "text/plain": [
       "Training: |          | 0/? [00:00<?, ?it/s]"
      ]
     },
     "metadata": {},
     "output_type": "display_data"
    },
    {
     "data": {
      "application/vnd.jupyter.widget-view+json": {
       "model_id": "c8bfe20827f742da91ff0b2a140378c2",
       "version_major": 2,
       "version_minor": 0
      },
      "text/plain": [
       "Validation: |          | 0/? [00:00<?, ?it/s]"
      ]
     },
     "metadata": {},
     "output_type": "display_data"
    },
    {
     "data": {
      "application/vnd.jupyter.widget-view+json": {
       "model_id": "83859a801e724bd6b096c25f0a36e859",
       "version_major": 2,
       "version_minor": 0
      },
      "text/plain": [
       "Validation: |          | 0/? [00:00<?, ?it/s]"
      ]
     },
     "metadata": {},
     "output_type": "display_data"
    },
    {
     "data": {
      "application/vnd.jupyter.widget-view+json": {
       "model_id": "f62bdfe474a048eda3b2c2af2519a7e4",
       "version_major": 2,
       "version_minor": 0
      },
      "text/plain": [
       "Validation: |          | 0/? [00:00<?, ?it/s]"
      ]
     },
     "metadata": {},
     "output_type": "display_data"
    },
    {
     "data": {
      "application/vnd.jupyter.widget-view+json": {
       "model_id": "cba56f84d0dc465f97e50219014a55d3",
       "version_major": 2,
       "version_minor": 0
      },
      "text/plain": [
       "Validation: |          | 0/? [00:00<?, ?it/s]"
      ]
     },
     "metadata": {},
     "output_type": "display_data"
    },
    {
     "data": {
      "application/vnd.jupyter.widget-view+json": {
       "model_id": "b3692a754e784e40a98ac43a67b5a2e0",
       "version_major": 2,
       "version_minor": 0
      },
      "text/plain": [
       "Validation: |          | 0/? [00:00<?, ?it/s]"
      ]
     },
     "metadata": {},
     "output_type": "display_data"
    },
    {
     "data": {
      "application/vnd.jupyter.widget-view+json": {
       "model_id": "6c0fa3257dc143d097b7526169597176",
       "version_major": 2,
       "version_minor": 0
      },
      "text/plain": [
       "Validation: |          | 0/? [00:00<?, ?it/s]"
      ]
     },
     "metadata": {},
     "output_type": "display_data"
    },
    {
     "data": {
      "application/vnd.jupyter.widget-view+json": {
       "model_id": "4f772c8f7997468791384dae9f2fae41",
       "version_major": 2,
       "version_minor": 0
      },
      "text/plain": [
       "Validation: |          | 0/? [00:00<?, ?it/s]"
      ]
     },
     "metadata": {},
     "output_type": "display_data"
    },
    {
     "data": {
      "application/vnd.jupyter.widget-view+json": {
       "model_id": "f819f9dbed234d2e86bac982bf5b4fb3",
       "version_major": 2,
       "version_minor": 0
      },
      "text/plain": [
       "Validation: |          | 0/? [00:00<?, ?it/s]"
      ]
     },
     "metadata": {},
     "output_type": "display_data"
    },
    {
     "data": {
      "application/vnd.jupyter.widget-view+json": {
       "model_id": "fc65a5f309444a03b3d4aa8aa840039c",
       "version_major": 2,
       "version_minor": 0
      },
      "text/plain": [
       "Validation: |          | 0/? [00:00<?, ?it/s]"
      ]
     },
     "metadata": {},
     "output_type": "display_data"
    },
    {
     "data": {
      "application/vnd.jupyter.widget-view+json": {
       "model_id": "4dae4fb7a5f547b3a0d798339712eb67",
       "version_major": 2,
       "version_minor": 0
      },
      "text/plain": [
       "Validation: |          | 0/? [00:00<?, ?it/s]"
      ]
     },
     "metadata": {},
     "output_type": "display_data"
    },
    {
     "data": {
      "application/vnd.jupyter.widget-view+json": {
       "model_id": "764e223d5b35464dba606f35daee7e6f",
       "version_major": 2,
       "version_minor": 0
      },
      "text/plain": [
       "Validation: |          | 0/? [00:00<?, ?it/s]"
      ]
     },
     "metadata": {},
     "output_type": "display_data"
    },
    {
     "data": {
      "application/vnd.jupyter.widget-view+json": {
       "model_id": "71216365647c4416aec65d3a8eac7acf",
       "version_major": 2,
       "version_minor": 0
      },
      "text/plain": [
       "Validation: |          | 0/? [00:00<?, ?it/s]"
      ]
     },
     "metadata": {},
     "output_type": "display_data"
    },
    {
     "data": {
      "application/vnd.jupyter.widget-view+json": {
       "model_id": "5dff333563c1406a8d3f2a8bb428384f",
       "version_major": 2,
       "version_minor": 0
      },
      "text/plain": [
       "Validation: |          | 0/? [00:00<?, ?it/s]"
      ]
     },
     "metadata": {},
     "output_type": "display_data"
    },
    {
     "data": {
      "application/vnd.jupyter.widget-view+json": {
       "model_id": "4dd5dc5be66c4d719fcc55951b73e5d5",
       "version_major": 2,
       "version_minor": 0
      },
      "text/plain": [
       "Validation: |          | 0/? [00:00<?, ?it/s]"
      ]
     },
     "metadata": {},
     "output_type": "display_data"
    },
    {
     "data": {
      "application/vnd.jupyter.widget-view+json": {
       "model_id": "69d2a321b41b426fad00f9056563fb94",
       "version_major": 2,
       "version_minor": 0
      },
      "text/plain": [
       "Validation: |          | 0/? [00:00<?, ?it/s]"
      ]
     },
     "metadata": {},
     "output_type": "display_data"
    },
    {
     "data": {
      "application/vnd.jupyter.widget-view+json": {
       "model_id": "c71754ab3895407aab9c2be64789965c",
       "version_major": 2,
       "version_minor": 0
      },
      "text/plain": [
       "Validation: |          | 0/? [00:00<?, ?it/s]"
      ]
     },
     "metadata": {},
     "output_type": "display_data"
    },
    {
     "data": {
      "application/vnd.jupyter.widget-view+json": {
       "model_id": "d925946f18184f8da9a2ce640ebe48da",
       "version_major": 2,
       "version_minor": 0
      },
      "text/plain": [
       "Validation: |          | 0/? [00:00<?, ?it/s]"
      ]
     },
     "metadata": {},
     "output_type": "display_data"
    },
    {
     "data": {
      "application/vnd.jupyter.widget-view+json": {
       "model_id": "7a63f6ec45e44bc0b775534675d19c8f",
       "version_major": 2,
       "version_minor": 0
      },
      "text/plain": [
       "Validation: |          | 0/? [00:00<?, ?it/s]"
      ]
     },
     "metadata": {},
     "output_type": "display_data"
    },
    {
     "data": {
      "application/vnd.jupyter.widget-view+json": {
       "model_id": "2f06a8857dd74b3a94f4c77dd47956e4",
       "version_major": 2,
       "version_minor": 0
      },
      "text/plain": [
       "Validation: |          | 0/? [00:00<?, ?it/s]"
      ]
     },
     "metadata": {},
     "output_type": "display_data"
    },
    {
     "data": {
      "application/vnd.jupyter.widget-view+json": {
       "model_id": "687f4897718f4b57b1e73e7c9f5afb23",
       "version_major": 2,
       "version_minor": 0
      },
      "text/plain": [
       "Validation: |          | 0/? [00:00<?, ?it/s]"
      ]
     },
     "metadata": {},
     "output_type": "display_data"
    },
    {
     "data": {
      "application/vnd.jupyter.widget-view+json": {
       "model_id": "4d8745b1bd9041d4b3bf0b6cbaf786e1",
       "version_major": 2,
       "version_minor": 0
      },
      "text/plain": [
       "Validation: |          | 0/? [00:00<?, ?it/s]"
      ]
     },
     "metadata": {},
     "output_type": "display_data"
    },
    {
     "data": {
      "application/vnd.jupyter.widget-view+json": {
       "model_id": "3f336608fd6d4040a66cf47c6e7af207",
       "version_major": 2,
       "version_minor": 0
      },
      "text/plain": [
       "Validation: |          | 0/? [00:00<?, ?it/s]"
      ]
     },
     "metadata": {},
     "output_type": "display_data"
    },
    {
     "data": {
      "application/vnd.jupyter.widget-view+json": {
       "model_id": "252ae2def4d9481aa97eb87e77db7f6d",
       "version_major": 2,
       "version_minor": 0
      },
      "text/plain": [
       "Validation: |          | 0/? [00:00<?, ?it/s]"
      ]
     },
     "metadata": {},
     "output_type": "display_data"
    },
    {
     "data": {
      "application/vnd.jupyter.widget-view+json": {
       "model_id": "fc39754e31b84fe6a4af434ffe2d285a",
       "version_major": 2,
       "version_minor": 0
      },
      "text/plain": [
       "Validation: |          | 0/? [00:00<?, ?it/s]"
      ]
     },
     "metadata": {},
     "output_type": "display_data"
    },
    {
     "data": {
      "application/vnd.jupyter.widget-view+json": {
       "model_id": "07ed252854eb4762ab275a9db40879cc",
       "version_major": 2,
       "version_minor": 0
      },
      "text/plain": [
       "Validation: |          | 0/? [00:00<?, ?it/s]"
      ]
     },
     "metadata": {},
     "output_type": "display_data"
    },
    {
     "data": {
      "application/vnd.jupyter.widget-view+json": {
       "model_id": "19e3cbc5975f4c8ebabf1934903c9fd5",
       "version_major": 2,
       "version_minor": 0
      },
      "text/plain": [
       "Validation: |          | 0/? [00:00<?, ?it/s]"
      ]
     },
     "metadata": {},
     "output_type": "display_data"
    },
    {
     "data": {
      "application/vnd.jupyter.widget-view+json": {
       "model_id": "66e2babfa24f4c3a8a27e99b67c113da",
       "version_major": 2,
       "version_minor": 0
      },
      "text/plain": [
       "Validation: |          | 0/? [00:00<?, ?it/s]"
      ]
     },
     "metadata": {},
     "output_type": "display_data"
    },
    {
     "data": {
      "application/vnd.jupyter.widget-view+json": {
       "model_id": "ef557fcea2eb478ca215886e5382b378",
       "version_major": 2,
       "version_minor": 0
      },
      "text/plain": [
       "Validation: |          | 0/? [00:00<?, ?it/s]"
      ]
     },
     "metadata": {},
     "output_type": "display_data"
    },
    {
     "data": {
      "application/vnd.jupyter.widget-view+json": {
       "model_id": "c2d844ac3a8048b084a4c35b2003601f",
       "version_major": 2,
       "version_minor": 0
      },
      "text/plain": [
       "Validation: |          | 0/? [00:00<?, ?it/s]"
      ]
     },
     "metadata": {},
     "output_type": "display_data"
    },
    {
     "data": {
      "application/vnd.jupyter.widget-view+json": {
       "model_id": "c064a2979a744a0981debe1517fb5f04",
       "version_major": 2,
       "version_minor": 0
      },
      "text/plain": [
       "Validation: |          | 0/? [00:00<?, ?it/s]"
      ]
     },
     "metadata": {},
     "output_type": "display_data"
    },
    {
     "data": {
      "application/vnd.jupyter.widget-view+json": {
       "model_id": "50bd3cb9b92a44adb6c2c6f1dee3a2a6",
       "version_major": 2,
       "version_minor": 0
      },
      "text/plain": [
       "Validation: |          | 0/? [00:00<?, ?it/s]"
      ]
     },
     "metadata": {},
     "output_type": "display_data"
    },
    {
     "data": {
      "application/vnd.jupyter.widget-view+json": {
       "model_id": "456d518ff91e4438a45b7b997e709ad4",
       "version_major": 2,
       "version_minor": 0
      },
      "text/plain": [
       "Validation: |          | 0/? [00:00<?, ?it/s]"
      ]
     },
     "metadata": {},
     "output_type": "display_data"
    },
    {
     "data": {
      "application/vnd.jupyter.widget-view+json": {
       "model_id": "0b5b7b53611a4745aedddbfa1d3fa4b5",
       "version_major": 2,
       "version_minor": 0
      },
      "text/plain": [
       "Validation: |          | 0/? [00:00<?, ?it/s]"
      ]
     },
     "metadata": {},
     "output_type": "display_data"
    },
    {
     "data": {
      "application/vnd.jupyter.widget-view+json": {
       "model_id": "79b660683f814b57b50dacdd7903e624",
       "version_major": 2,
       "version_minor": 0
      },
      "text/plain": [
       "Validation: |          | 0/? [00:00<?, ?it/s]"
      ]
     },
     "metadata": {},
     "output_type": "display_data"
    },
    {
     "data": {
      "application/vnd.jupyter.widget-view+json": {
       "model_id": "31da17b31bb745da919c5aa4d0ab13b8",
       "version_major": 2,
       "version_minor": 0
      },
      "text/plain": [
       "Validation: |          | 0/? [00:00<?, ?it/s]"
      ]
     },
     "metadata": {},
     "output_type": "display_data"
    },
    {
     "data": {
      "application/vnd.jupyter.widget-view+json": {
       "model_id": "fd6a8423bdb44451ad041395a937cc61",
       "version_major": 2,
       "version_minor": 0
      },
      "text/plain": [
       "Validation: |          | 0/? [00:00<?, ?it/s]"
      ]
     },
     "metadata": {},
     "output_type": "display_data"
    },
    {
     "data": {
      "application/vnd.jupyter.widget-view+json": {
       "model_id": "ffe41da107564fa6a088a5ade4b734f1",
       "version_major": 2,
       "version_minor": 0
      },
      "text/plain": [
       "Validation: |          | 0/? [00:00<?, ?it/s]"
      ]
     },
     "metadata": {},
     "output_type": "display_data"
    },
    {
     "data": {
      "application/vnd.jupyter.widget-view+json": {
       "model_id": "0f816bdbb0d34cda94d53665843fc4f3",
       "version_major": 2,
       "version_minor": 0
      },
      "text/plain": [
       "Validation: |          | 0/? [00:00<?, ?it/s]"
      ]
     },
     "metadata": {},
     "output_type": "display_data"
    },
    {
     "data": {
      "application/vnd.jupyter.widget-view+json": {
       "model_id": "5a61faa9797f44ac8294fef8b9b87f40",
       "version_major": 2,
       "version_minor": 0
      },
      "text/plain": [
       "Validation: |          | 0/? [00:00<?, ?it/s]"
      ]
     },
     "metadata": {},
     "output_type": "display_data"
    },
    {
     "data": {
      "application/vnd.jupyter.widget-view+json": {
       "model_id": "d196b60fa28244449a7ef78dbd9c6ec4",
       "version_major": 2,
       "version_minor": 0
      },
      "text/plain": [
       "Validation: |          | 0/? [00:00<?, ?it/s]"
      ]
     },
     "metadata": {},
     "output_type": "display_data"
    },
    {
     "data": {
      "application/vnd.jupyter.widget-view+json": {
       "model_id": "5981a0d38ab7451a8f9c0ea992679214",
       "version_major": 2,
       "version_minor": 0
      },
      "text/plain": [
       "Validation: |          | 0/? [00:00<?, ?it/s]"
      ]
     },
     "metadata": {},
     "output_type": "display_data"
    },
    {
     "data": {
      "application/vnd.jupyter.widget-view+json": {
       "model_id": "4043c12e7b0943f2887064b03dbaa909",
       "version_major": 2,
       "version_minor": 0
      },
      "text/plain": [
       "Validation: |          | 0/? [00:00<?, ?it/s]"
      ]
     },
     "metadata": {},
     "output_type": "display_data"
    },
    {
     "data": {
      "application/vnd.jupyter.widget-view+json": {
       "model_id": "cab9f96232ad4ca690a921d5b8531c48",
       "version_major": 2,
       "version_minor": 0
      },
      "text/plain": [
       "Validation: |          | 0/? [00:00<?, ?it/s]"
      ]
     },
     "metadata": {},
     "output_type": "display_data"
    },
    {
     "data": {
      "application/vnd.jupyter.widget-view+json": {
       "model_id": "c1c38d0546534b2489d35fc958d3ab62",
       "version_major": 2,
       "version_minor": 0
      },
      "text/plain": [
       "Validation: |          | 0/? [00:00<?, ?it/s]"
      ]
     },
     "metadata": {},
     "output_type": "display_data"
    },
    {
     "data": {
      "application/vnd.jupyter.widget-view+json": {
       "model_id": "806c9c90bde04e42ac6ea162a4d8b8e3",
       "version_major": 2,
       "version_minor": 0
      },
      "text/plain": [
       "Validation: |          | 0/? [00:00<?, ?it/s]"
      ]
     },
     "metadata": {},
     "output_type": "display_data"
    },
    {
     "data": {
      "application/vnd.jupyter.widget-view+json": {
       "model_id": "9b0011b04da24a3fadb24a3028e19e83",
       "version_major": 2,
       "version_minor": 0
      },
      "text/plain": [
       "Validation: |          | 0/? [00:00<?, ?it/s]"
      ]
     },
     "metadata": {},
     "output_type": "display_data"
    },
    {
     "data": {
      "application/vnd.jupyter.widget-view+json": {
       "model_id": "82ba918b9fd74334b1a89e5f80755684",
       "version_major": 2,
       "version_minor": 0
      },
      "text/plain": [
       "Validation: |          | 0/? [00:00<?, ?it/s]"
      ]
     },
     "metadata": {},
     "output_type": "display_data"
    },
    {
     "data": {
      "application/vnd.jupyter.widget-view+json": {
       "model_id": "469d88be76684a78b9bad22c867e6e35",
       "version_major": 2,
       "version_minor": 0
      },
      "text/plain": [
       "Validation: |          | 0/? [00:00<?, ?it/s]"
      ]
     },
     "metadata": {},
     "output_type": "display_data"
    },
    {
     "data": {
      "application/vnd.jupyter.widget-view+json": {
       "model_id": "8729a335c5554aedaa1bc5e656c7aff7",
       "version_major": 2,
       "version_minor": 0
      },
      "text/plain": [
       "Validation: |          | 0/? [00:00<?, ?it/s]"
      ]
     },
     "metadata": {},
     "output_type": "display_data"
    },
    {
     "data": {
      "application/vnd.jupyter.widget-view+json": {
       "model_id": "fbb759c4c8fd48238b7185e2095825e0",
       "version_major": 2,
       "version_minor": 0
      },
      "text/plain": [
       "Validation: |          | 0/? [00:00<?, ?it/s]"
      ]
     },
     "metadata": {},
     "output_type": "display_data"
    },
    {
     "data": {
      "application/vnd.jupyter.widget-view+json": {
       "model_id": "7505ff087abe4a028057d46252d455c6",
       "version_major": 2,
       "version_minor": 0
      },
      "text/plain": [
       "Validation: |          | 0/? [00:00<?, ?it/s]"
      ]
     },
     "metadata": {},
     "output_type": "display_data"
    },
    {
     "data": {
      "application/vnd.jupyter.widget-view+json": {
       "model_id": "69a270bf9e50430ca9b8aaa7c8e83cf8",
       "version_major": 2,
       "version_minor": 0
      },
      "text/plain": [
       "Validation: |          | 0/? [00:00<?, ?it/s]"
      ]
     },
     "metadata": {},
     "output_type": "display_data"
    },
    {
     "data": {
      "application/vnd.jupyter.widget-view+json": {
       "model_id": "e3b114ff840e4627b09a66fd290f6776",
       "version_major": 2,
       "version_minor": 0
      },
      "text/plain": [
       "Validation: |          | 0/? [00:00<?, ?it/s]"
      ]
     },
     "metadata": {},
     "output_type": "display_data"
    },
    {
     "data": {
      "application/vnd.jupyter.widget-view+json": {
       "model_id": "d3080a9b4c174c2b8172bda4ca4d4fc8",
       "version_major": 2,
       "version_minor": 0
      },
      "text/plain": [
       "Validation: |          | 0/? [00:00<?, ?it/s]"
      ]
     },
     "metadata": {},
     "output_type": "display_data"
    },
    {
     "data": {
      "application/vnd.jupyter.widget-view+json": {
       "model_id": "1182b89ab9244478a12c4527a0d09c47",
       "version_major": 2,
       "version_minor": 0
      },
      "text/plain": [
       "Validation: |          | 0/? [00:00<?, ?it/s]"
      ]
     },
     "metadata": {},
     "output_type": "display_data"
    },
    {
     "data": {
      "application/vnd.jupyter.widget-view+json": {
       "model_id": "83c5aa23a41f46adafe0d9b0fabc8d8e",
       "version_major": 2,
       "version_minor": 0
      },
      "text/plain": [
       "Validation: |          | 0/? [00:00<?, ?it/s]"
      ]
     },
     "metadata": {},
     "output_type": "display_data"
    },
    {
     "data": {
      "application/vnd.jupyter.widget-view+json": {
       "model_id": "c4fbb73d90264ee6920efd486b00a7cd",
       "version_major": 2,
       "version_minor": 0
      },
      "text/plain": [
       "Validation: |          | 0/? [00:00<?, ?it/s]"
      ]
     },
     "metadata": {},
     "output_type": "display_data"
    },
    {
     "data": {
      "application/vnd.jupyter.widget-view+json": {
       "model_id": "e46658e9484747779a3823136678e960",
       "version_major": 2,
       "version_minor": 0
      },
      "text/plain": [
       "Validation: |          | 0/? [00:00<?, ?it/s]"
      ]
     },
     "metadata": {},
     "output_type": "display_data"
    },
    {
     "data": {
      "application/vnd.jupyter.widget-view+json": {
       "model_id": "28dce38df1a34278b1a3887149569220",
       "version_major": 2,
       "version_minor": 0
      },
      "text/plain": [
       "Validation: |          | 0/? [00:00<?, ?it/s]"
      ]
     },
     "metadata": {},
     "output_type": "display_data"
    },
    {
     "data": {
      "application/vnd.jupyter.widget-view+json": {
       "model_id": "492cd414d9404b36bcb7117ddeeb7225",
       "version_major": 2,
       "version_minor": 0
      },
      "text/plain": [
       "Validation: |          | 0/? [00:00<?, ?it/s]"
      ]
     },
     "metadata": {},
     "output_type": "display_data"
    },
    {
     "data": {
      "application/vnd.jupyter.widget-view+json": {
       "model_id": "ab694ba8612e4ff38c4766286c35776d",
       "version_major": 2,
       "version_minor": 0
      },
      "text/plain": [
       "Validation: |          | 0/? [00:00<?, ?it/s]"
      ]
     },
     "metadata": {},
     "output_type": "display_data"
    },
    {
     "data": {
      "application/vnd.jupyter.widget-view+json": {
       "model_id": "a34e8bd179644b0fa114b13aa4a07496",
       "version_major": 2,
       "version_minor": 0
      },
      "text/plain": [
       "Validation: |          | 0/? [00:00<?, ?it/s]"
      ]
     },
     "metadata": {},
     "output_type": "display_data"
    },
    {
     "data": {
      "application/vnd.jupyter.widget-view+json": {
       "model_id": "54a8771fa6e94852baf8f87541f2faf9",
       "version_major": 2,
       "version_minor": 0
      },
      "text/plain": [
       "Validation: |          | 0/? [00:00<?, ?it/s]"
      ]
     },
     "metadata": {},
     "output_type": "display_data"
    },
    {
     "data": {
      "application/vnd.jupyter.widget-view+json": {
       "model_id": "a18bcf962bda4ecc88d9713b496cff64",
       "version_major": 2,
       "version_minor": 0
      },
      "text/plain": [
       "Validation: |          | 0/? [00:00<?, ?it/s]"
      ]
     },
     "metadata": {},
     "output_type": "display_data"
    },
    {
     "data": {
      "application/vnd.jupyter.widget-view+json": {
       "model_id": "68114d1b322342bebec21a7c0c4cfade",
       "version_major": 2,
       "version_minor": 0
      },
      "text/plain": [
       "Validation: |          | 0/? [00:00<?, ?it/s]"
      ]
     },
     "metadata": {},
     "output_type": "display_data"
    },
    {
     "data": {
      "application/vnd.jupyter.widget-view+json": {
       "model_id": "05617e550a1d430f9106d029642e2dd3",
       "version_major": 2,
       "version_minor": 0
      },
      "text/plain": [
       "Validation: |          | 0/? [00:00<?, ?it/s]"
      ]
     },
     "metadata": {},
     "output_type": "display_data"
    },
    {
     "data": {
      "application/vnd.jupyter.widget-view+json": {
       "model_id": "ebc545b073d34c10afce1f41b8fb7874",
       "version_major": 2,
       "version_minor": 0
      },
      "text/plain": [
       "Validation: |          | 0/? [00:00<?, ?it/s]"
      ]
     },
     "metadata": {},
     "output_type": "display_data"
    },
    {
     "data": {
      "application/vnd.jupyter.widget-view+json": {
       "model_id": "4d3114802f3246b2bfc57f7195fcaade",
       "version_major": 2,
       "version_minor": 0
      },
      "text/plain": [
       "Validation: |          | 0/? [00:00<?, ?it/s]"
      ]
     },
     "metadata": {},
     "output_type": "display_data"
    },
    {
     "data": {
      "application/vnd.jupyter.widget-view+json": {
       "model_id": "5951587d5ea144e8995536d8f5bb5f30",
       "version_major": 2,
       "version_minor": 0
      },
      "text/plain": [
       "Validation: |          | 0/? [00:00<?, ?it/s]"
      ]
     },
     "metadata": {},
     "output_type": "display_data"
    },
    {
     "data": {
      "application/vnd.jupyter.widget-view+json": {
       "model_id": "809a9acd5ca34aaba7887d820f847124",
       "version_major": 2,
       "version_minor": 0
      },
      "text/plain": [
       "Validation: |          | 0/? [00:00<?, ?it/s]"
      ]
     },
     "metadata": {},
     "output_type": "display_data"
    },
    {
     "data": {
      "application/vnd.jupyter.widget-view+json": {
       "model_id": "1ffdec3ddd9c458a861ff794ba7fb4fc",
       "version_major": 2,
       "version_minor": 0
      },
      "text/plain": [
       "Validation: |          | 0/? [00:00<?, ?it/s]"
      ]
     },
     "metadata": {},
     "output_type": "display_data"
    },
    {
     "data": {
      "application/vnd.jupyter.widget-view+json": {
       "model_id": "edfcb6d3e4ab45d986c2ca60a607cbd2",
       "version_major": 2,
       "version_minor": 0
      },
      "text/plain": [
       "Validation: |          | 0/? [00:00<?, ?it/s]"
      ]
     },
     "metadata": {},
     "output_type": "display_data"
    },
    {
     "data": {
      "application/vnd.jupyter.widget-view+json": {
       "model_id": "ec1de1e585094296b67e17864eefbdd8",
       "version_major": 2,
       "version_minor": 0
      },
      "text/plain": [
       "Validation: |          | 0/? [00:00<?, ?it/s]"
      ]
     },
     "metadata": {},
     "output_type": "display_data"
    },
    {
     "data": {
      "application/vnd.jupyter.widget-view+json": {
       "model_id": "b79a668ca0d14b13ac291d68b49c7303",
       "version_major": 2,
       "version_minor": 0
      },
      "text/plain": [
       "Validation: |          | 0/? [00:00<?, ?it/s]"
      ]
     },
     "metadata": {},
     "output_type": "display_data"
    },
    {
     "data": {
      "application/vnd.jupyter.widget-view+json": {
       "model_id": "f0435e7b82474e73867745dc331afcae",
       "version_major": 2,
       "version_minor": 0
      },
      "text/plain": [
       "Validation: |          | 0/? [00:00<?, ?it/s]"
      ]
     },
     "metadata": {},
     "output_type": "display_data"
    },
    {
     "data": {
      "application/vnd.jupyter.widget-view+json": {
       "model_id": "7a5af887ece548ac9a3ec8fac3a30a3f",
       "version_major": 2,
       "version_minor": 0
      },
      "text/plain": [
       "Validation: |          | 0/? [00:00<?, ?it/s]"
      ]
     },
     "metadata": {},
     "output_type": "display_data"
    },
    {
     "data": {
      "application/vnd.jupyter.widget-view+json": {
       "model_id": "69130a8db0524b9c9ffdd4df8f8dacb1",
       "version_major": 2,
       "version_minor": 0
      },
      "text/plain": [
       "Validation: |          | 0/? [00:00<?, ?it/s]"
      ]
     },
     "metadata": {},
     "output_type": "display_data"
    },
    {
     "data": {
      "application/vnd.jupyter.widget-view+json": {
       "model_id": "5c50aa46c6214c809e49b98ecfc609eb",
       "version_major": 2,
       "version_minor": 0
      },
      "text/plain": [
       "Validation: |          | 0/? [00:00<?, ?it/s]"
      ]
     },
     "metadata": {},
     "output_type": "display_data"
    },
    {
     "data": {
      "application/vnd.jupyter.widget-view+json": {
       "model_id": "519e227330b14d11be8f0447c35abc56",
       "version_major": 2,
       "version_minor": 0
      },
      "text/plain": [
       "Validation: |          | 0/? [00:00<?, ?it/s]"
      ]
     },
     "metadata": {},
     "output_type": "display_data"
    },
    {
     "data": {
      "application/vnd.jupyter.widget-view+json": {
       "model_id": "cb5123d15a044faca541f5c05e32774e",
       "version_major": 2,
       "version_minor": 0
      },
      "text/plain": [
       "Validation: |          | 0/? [00:00<?, ?it/s]"
      ]
     },
     "metadata": {},
     "output_type": "display_data"
    },
    {
     "data": {
      "application/vnd.jupyter.widget-view+json": {
       "model_id": "c8e0bb1914db4d44895443b49db1fa6c",
       "version_major": 2,
       "version_minor": 0
      },
      "text/plain": [
       "Validation: |          | 0/? [00:00<?, ?it/s]"
      ]
     },
     "metadata": {},
     "output_type": "display_data"
    },
    {
     "data": {
      "application/vnd.jupyter.widget-view+json": {
       "model_id": "1efda2b998c3466b8bbea7e7611d4097",
       "version_major": 2,
       "version_minor": 0
      },
      "text/plain": [
       "Validation: |          | 0/? [00:00<?, ?it/s]"
      ]
     },
     "metadata": {},
     "output_type": "display_data"
    },
    {
     "data": {
      "application/vnd.jupyter.widget-view+json": {
       "model_id": "d8a2b1ba879044c5aed8cd4faf7791c5",
       "version_major": 2,
       "version_minor": 0
      },
      "text/plain": [
       "Validation: |          | 0/? [00:00<?, ?it/s]"
      ]
     },
     "metadata": {},
     "output_type": "display_data"
    },
    {
     "data": {
      "application/vnd.jupyter.widget-view+json": {
       "model_id": "92a223144fcd4a2b977d302e1ea78139",
       "version_major": 2,
       "version_minor": 0
      },
      "text/plain": [
       "Validation: |          | 0/? [00:00<?, ?it/s]"
      ]
     },
     "metadata": {},
     "output_type": "display_data"
    },
    {
     "data": {
      "application/vnd.jupyter.widget-view+json": {
       "model_id": "20f65cc427984823aa7fd5e861189909",
       "version_major": 2,
       "version_minor": 0
      },
      "text/plain": [
       "Validation: |          | 0/? [00:00<?, ?it/s]"
      ]
     },
     "metadata": {},
     "output_type": "display_data"
    },
    {
     "data": {
      "application/vnd.jupyter.widget-view+json": {
       "model_id": "4d52d1e39dc549658cc9097cdcd10e80",
       "version_major": 2,
       "version_minor": 0
      },
      "text/plain": [
       "Validation: |          | 0/? [00:00<?, ?it/s]"
      ]
     },
     "metadata": {},
     "output_type": "display_data"
    },
    {
     "data": {
      "application/vnd.jupyter.widget-view+json": {
       "model_id": "42bcefe7e8244a109b7de0e07717e703",
       "version_major": 2,
       "version_minor": 0
      },
      "text/plain": [
       "Validation: |          | 0/? [00:00<?, ?it/s]"
      ]
     },
     "metadata": {},
     "output_type": "display_data"
    },
    {
     "data": {
      "application/vnd.jupyter.widget-view+json": {
       "model_id": "3d557c076ee443a0b632efb6540d56d7",
       "version_major": 2,
       "version_minor": 0
      },
      "text/plain": [
       "Validation: |          | 0/? [00:00<?, ?it/s]"
      ]
     },
     "metadata": {},
     "output_type": "display_data"
    },
    {
     "data": {
      "application/vnd.jupyter.widget-view+json": {
       "model_id": "972758c9c8c547d4a94df6ccdb9a7a77",
       "version_major": 2,
       "version_minor": 0
      },
      "text/plain": [
       "Validation: |          | 0/? [00:00<?, ?it/s]"
      ]
     },
     "metadata": {},
     "output_type": "display_data"
    },
    {
     "data": {
      "application/vnd.jupyter.widget-view+json": {
       "model_id": "6023c15bd9ca471a8fe783ff8d156f9f",
       "version_major": 2,
       "version_minor": 0
      },
      "text/plain": [
       "Validation: |          | 0/? [00:00<?, ?it/s]"
      ]
     },
     "metadata": {},
     "output_type": "display_data"
    },
    {
     "data": {
      "application/vnd.jupyter.widget-view+json": {
       "model_id": "e5179db898c0451fbeb58bf3ff2f38de",
       "version_major": 2,
       "version_minor": 0
      },
      "text/plain": [
       "Validation: |          | 0/? [00:00<?, ?it/s]"
      ]
     },
     "metadata": {},
     "output_type": "display_data"
    },
    {
     "data": {
      "application/vnd.jupyter.widget-view+json": {
       "model_id": "4cc8f63f576242b998c8e5136c38f5c2",
       "version_major": 2,
       "version_minor": 0
      },
      "text/plain": [
       "Validation: |          | 0/? [00:00<?, ?it/s]"
      ]
     },
     "metadata": {},
     "output_type": "display_data"
    },
    {
     "data": {
      "application/vnd.jupyter.widget-view+json": {
       "model_id": "c0c21ddb63374f2cbc0a1a9b79ed858c",
       "version_major": 2,
       "version_minor": 0
      },
      "text/plain": [
       "Validation: |          | 0/? [00:00<?, ?it/s]"
      ]
     },
     "metadata": {},
     "output_type": "display_data"
    },
    {
     "data": {
      "application/vnd.jupyter.widget-view+json": {
       "model_id": "21da482fc3f84b97b8b7c9431509e145",
       "version_major": 2,
       "version_minor": 0
      },
      "text/plain": [
       "Validation: |          | 0/? [00:00<?, ?it/s]"
      ]
     },
     "metadata": {},
     "output_type": "display_data"
    },
    {
     "data": {
      "application/vnd.jupyter.widget-view+json": {
       "model_id": "f3632e73b0124a5eab11144aa2139376",
       "version_major": 2,
       "version_minor": 0
      },
      "text/plain": [
       "Validation: |          | 0/? [00:00<?, ?it/s]"
      ]
     },
     "metadata": {},
     "output_type": "display_data"
    },
    {
     "data": {
      "application/vnd.jupyter.widget-view+json": {
       "model_id": "e4058499e1674f0c8f71812f5fe482f2",
       "version_major": 2,
       "version_minor": 0
      },
      "text/plain": [
       "Validation: |          | 0/? [00:00<?, ?it/s]"
      ]
     },
     "metadata": {},
     "output_type": "display_data"
    },
    {
     "data": {
      "application/vnd.jupyter.widget-view+json": {
       "model_id": "fa03c67a7de6440586ecd71063d43186",
       "version_major": 2,
       "version_minor": 0
      },
      "text/plain": [
       "Validation: |          | 0/? [00:00<?, ?it/s]"
      ]
     },
     "metadata": {},
     "output_type": "display_data"
    },
    {
     "data": {
      "application/vnd.jupyter.widget-view+json": {
       "model_id": "34d795613f494b4f89a40c57c59d4409",
       "version_major": 2,
       "version_minor": 0
      },
      "text/plain": [
       "Validation: |          | 0/? [00:00<?, ?it/s]"
      ]
     },
     "metadata": {},
     "output_type": "display_data"
    },
    {
     "data": {
      "application/vnd.jupyter.widget-view+json": {
       "model_id": "6645065184cd40c49cfa74899d9bf5f3",
       "version_major": 2,
       "version_minor": 0
      },
      "text/plain": [
       "Validation: |          | 0/? [00:00<?, ?it/s]"
      ]
     },
     "metadata": {},
     "output_type": "display_data"
    },
    {
     "data": {
      "application/vnd.jupyter.widget-view+json": {
       "model_id": "2e50071a2efd44a89b2b9882ca314501",
       "version_major": 2,
       "version_minor": 0
      },
      "text/plain": [
       "Validation: |          | 0/? [00:00<?, ?it/s]"
      ]
     },
     "metadata": {},
     "output_type": "display_data"
    },
    {
     "name": "stderr",
     "output_type": "stream",
     "text": [
      "`Trainer.fit` stopped: `max_epochs=100` reached.\n"
     ]
    },
    {
     "data": {
      "image/png": "[encoded data removed]",
      "text/plain": [
       "<Figure size 640x480 with 1 Axes>"
      ]
     },
     "metadata": {},
     "output_type": "display_data"
    }
   ],
   "source": [
    "trainer.fit(\n",
    "    model,dl\n",
    ")"
   ]
  },
  {
   "cell_type": "code",
   "execution_count": 12,
   "id": "0a4dd00c",
   "metadata": {},
   "outputs": [
    {
     "name": "stdout",
     "output_type": "stream",
     "text": [
      "tensor([[0.2347]])\n"
     ]
    },
    {
     "data": {
      "image/png": "[encoded data removed]",
      "text/plain": [
       "<Figure size 640x480 with 1 Axes>"
      ]
     },
     "metadata": {},
     "output_type": "display_data"
    }
   ],
   "source": [
    "with torch.no_grad():\n",
    "    print(model.disc.to('cpu')(model.gen.to('cpu')(torch.randn(1,100,requires_grad=False,device='cpu'))))\n",
    "_=plt.imshow(model.gen(torch.randn(1,100))[0].view(28,28).detach().cpu().numpy(),cmap='gray')"
   ]
  },
  {
   "cell_type": "code",
   "execution_count": 13,
   "id": "6ded6c0e",
   "metadata": {},
   "outputs": [
    {
     "data": {
      "text/plain": [
       "array(['/workspace/tf_revamp/mnist_gan/img/0.png',\n",
       "       '/workspace/tf_revamp/mnist_gan/img/1.png',\n",
       "       '/workspace/tf_revamp/mnist_gan/img/2.png',\n",
       "       '/workspace/tf_revamp/mnist_gan/img/3.png',\n",
       "       '/workspace/tf_revamp/mnist_gan/img/4.png',\n",
       "       '/workspace/tf_revamp/mnist_gan/img/5.png',\n",
       "       '/workspace/tf_revamp/mnist_gan/img/6.png',\n",
       "       '/workspace/tf_revamp/mnist_gan/img/7.png',\n",
       "       '/workspace/tf_revamp/mnist_gan/img/8.png',\n",
       "       '/workspace/tf_revamp/mnist_gan/img/9.png',\n",
       "       '/workspace/tf_revamp/mnist_gan/img/10.png',\n",
       "       '/workspace/tf_revamp/mnist_gan/img/11.png',\n",
       "       '/workspace/tf_revamp/mnist_gan/img/12.png',\n",
       "       '/workspace/tf_revamp/mnist_gan/img/13.png',\n",
       "       '/workspace/tf_revamp/mnist_gan/img/14.png',\n",
       "       '/workspace/tf_revamp/mnist_gan/img/15.png',\n",
       "       '/workspace/tf_revamp/mnist_gan/img/16.png',\n",
       "       '/workspace/tf_revamp/mnist_gan/img/17.png',\n",
       "       '/workspace/tf_revamp/mnist_gan/img/18.png',\n",
       "       '/workspace/tf_revamp/mnist_gan/img/19.png',\n",
       "       '/workspace/tf_revamp/mnist_gan/img/20.png',\n",
       "       '/workspace/tf_revamp/mnist_gan/img/21.png',\n",
       "       '/workspace/tf_revamp/mnist_gan/img/22.png',\n",
       "       '/workspace/tf_revamp/mnist_gan/img/23.png',\n",
       "       '/workspace/tf_revamp/mnist_gan/img/24.png',\n",
       "       '/workspace/tf_revamp/mnist_gan/img/25.png',\n",
       "       '/workspace/tf_revamp/mnist_gan/img/26.png',\n",
       "       '/workspace/tf_revamp/mnist_gan/img/27.png',\n",
       "       '/workspace/tf_revamp/mnist_gan/img/28.png',\n",
       "       '/workspace/tf_revamp/mnist_gan/img/29.png',\n",
       "       '/workspace/tf_revamp/mnist_gan/img/30.png',\n",
       "       '/workspace/tf_revamp/mnist_gan/img/31.png',\n",
       "       '/workspace/tf_revamp/mnist_gan/img/32.png',\n",
       "       '/workspace/tf_revamp/mnist_gan/img/33.png',\n",
       "       '/workspace/tf_revamp/mnist_gan/img/34.png',\n",
       "       '/workspace/tf_revamp/mnist_gan/img/35.png',\n",
       "       '/workspace/tf_revamp/mnist_gan/img/36.png',\n",
       "       '/workspace/tf_revamp/mnist_gan/img/37.png',\n",
       "       '/workspace/tf_revamp/mnist_gan/img/38.png',\n",
       "       '/workspace/tf_revamp/mnist_gan/img/39.png',\n",
       "       '/workspace/tf_revamp/mnist_gan/img/40.png',\n",
       "       '/workspace/tf_revamp/mnist_gan/img/41.png',\n",
       "       '/workspace/tf_revamp/mnist_gan/img/42.png',\n",
       "       '/workspace/tf_revamp/mnist_gan/img/43.png',\n",
       "       '/workspace/tf_revamp/mnist_gan/img/44.png',\n",
       "       '/workspace/tf_revamp/mnist_gan/img/45.png',\n",
       "       '/workspace/tf_revamp/mnist_gan/img/46.png',\n",
       "       '/workspace/tf_revamp/mnist_gan/img/47.png',\n",
       "       '/workspace/tf_revamp/mnist_gan/img/48.png',\n",
       "       '/workspace/tf_revamp/mnist_gan/img/49.png',\n",
       "       '/workspace/tf_revamp/mnist_gan/img/50.png',\n",
       "       '/workspace/tf_revamp/mnist_gan/img/51.png',\n",
       "       '/workspace/tf_revamp/mnist_gan/img/52.png',\n",
       "       '/workspace/tf_revamp/mnist_gan/img/53.png',\n",
       "       '/workspace/tf_revamp/mnist_gan/img/54.png',\n",
       "       '/workspace/tf_revamp/mnist_gan/img/55.png',\n",
       "       '/workspace/tf_revamp/mnist_gan/img/56.png',\n",
       "       '/workspace/tf_revamp/mnist_gan/img/57.png',\n",
       "       '/workspace/tf_revamp/mnist_gan/img/58.png',\n",
       "       '/workspace/tf_revamp/mnist_gan/img/59.png',\n",
       "       '/workspace/tf_revamp/mnist_gan/img/60.png',\n",
       "       '/workspace/tf_revamp/mnist_gan/img/61.png',\n",
       "       '/workspace/tf_revamp/mnist_gan/img/62.png',\n",
       "       '/workspace/tf_revamp/mnist_gan/img/63.png',\n",
       "       '/workspace/tf_revamp/mnist_gan/img/64.png',\n",
       "       '/workspace/tf_revamp/mnist_gan/img/65.png',\n",
       "       '/workspace/tf_revamp/mnist_gan/img/66.png',\n",
       "       '/workspace/tf_revamp/mnist_gan/img/67.png',\n",
       "       '/workspace/tf_revamp/mnist_gan/img/68.png',\n",
       "       '/workspace/tf_revamp/mnist_gan/img/69.png',\n",
       "       '/workspace/tf_revamp/mnist_gan/img/70.png',\n",
       "       '/workspace/tf_revamp/mnist_gan/img/71.png',\n",
       "       '/workspace/tf_revamp/mnist_gan/img/72.png',\n",
       "       '/workspace/tf_revamp/mnist_gan/img/73.png',\n",
       "       '/workspace/tf_revamp/mnist_gan/img/74.png',\n",
       "       '/workspace/tf_revamp/mnist_gan/img/75.png',\n",
       "       '/workspace/tf_revamp/mnist_gan/img/76.png',\n",
       "       '/workspace/tf_revamp/mnist_gan/img/77.png',\n",
       "       '/workspace/tf_revamp/mnist_gan/img/78.png',\n",
       "       '/workspace/tf_revamp/mnist_gan/img/79.png',\n",
       "       '/workspace/tf_revamp/mnist_gan/img/80.png',\n",
       "       '/workspace/tf_revamp/mnist_gan/img/81.png',\n",
       "       '/workspace/tf_revamp/mnist_gan/img/82.png',\n",
       "       '/workspace/tf_revamp/mnist_gan/img/83.png',\n",
       "       '/workspace/tf_revamp/mnist_gan/img/84.png',\n",
       "       '/workspace/tf_revamp/mnist_gan/img/85.png',\n",
       "       '/workspace/tf_revamp/mnist_gan/img/86.png',\n",
       "       '/workspace/tf_revamp/mnist_gan/img/87.png',\n",
       "       '/workspace/tf_revamp/mnist_gan/img/88.png',\n",
       "       '/workspace/tf_revamp/mnist_gan/img/89.png',\n",
       "       '/workspace/tf_revamp/mnist_gan/img/90.png',\n",
       "       '/workspace/tf_revamp/mnist_gan/img/91.png',\n",
       "       '/workspace/tf_revamp/mnist_gan/img/92.png',\n",
       "       '/workspace/tf_revamp/mnist_gan/img/93.png',\n",
       "       '/workspace/tf_revamp/mnist_gan/img/94.png',\n",
       "       '/workspace/tf_revamp/mnist_gan/img/95.png',\n",
       "       '/workspace/tf_revamp/mnist_gan/img/96.png',\n",
       "       '/workspace/tf_revamp/mnist_gan/img/97.png',\n",
       "       '/workspace/tf_revamp/mnist_gan/img/98.png',\n",
       "       '/workspace/tf_revamp/mnist_gan/img/99.png'], dtype='<U60')"
      ]
     },
     "execution_count": 13,
     "metadata": {},
     "output_type": "execute_result"
    }
   ],
   "source": [
    "files=np.array(os.listdir('./img'))\n",
    "files=np.strings.replace(files,'.png','').astype(int)\n",
    "files.sort()\n",
    "files=np.repeat([os.getcwd()+'/img/'],len(files))+files.astype(str)+np.repeat('.png',len(files))\n",
    "files"
   ]
  },
  {
   "cell_type": "code",
   "execution_count": 14,
   "id": "cbb8de4f",
   "metadata": {},
   "outputs": [
    {
     "name": "stderr",
     "output_type": "stream",
     "text": [
      "/tmp/ipykernel_427033/697409956.py:3: DeprecationWarning: Starting with ImageIO v3 the behavior of this function will switch to that of iio.v3.imread. To keep the current behavior (and make this warning disappear) use `import imageio.v2 as imageio` or call `imageio.v2.imread` directly.\n",
      "  images.append(imageio.imread(filename))\n"
     ]
    }
   ],
   "source": [
    "images = []\n",
    "for filename in files:\n",
    "    images.append(imageio.imread(filename))\n",
    "imageio.mimsave('./movie.gif', images)\n"
   ]
  },
  {
   "cell_type": "markdown",
   "id": "50913054",
   "metadata": {},
   "source": [
    "![image_gif](./movie.gif)"
   ]
  }
 ],
 "metadata": {
  "kernelspec": {
   "display_name": "base",
   "language": "python",
   "name": "python3"
  },
  "language_info": {
   "codemirror_mode": {
    "name": "ipython",
    "version": 3
   },
   "file_extension": ".py",
   "mimetype": "text/x-python",
   "name": "python",
   "nbconvert_exporter": "python",
   "pygments_lexer": "ipython3",
   "version": "3.11.11"
  }
 },
 "nbformat": 4,
 "nbformat_minor": 5
}
